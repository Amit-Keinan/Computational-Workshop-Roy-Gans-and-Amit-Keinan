{
 "cells": [
  {
   "cell_type": "code",
   "execution_count": 32,
   "metadata": {},
   "outputs": [
    {
     "data": {
      "text/plain": [
       "<module 'conf' from '/Volumes/homes/Maya/Guests/Amit/CompSagolProj/conf.py'>"
      ]
     },
     "execution_count": 32,
     "metadata": {},
     "output_type": "execute_result"
    }
   ],
   "source": [
    "import numpy as np\n",
    "import pandas as pd\n",
    "import nibabel as nib\n",
    "from matplotlib import pyplot as plt\n",
    "import scipy.stats as sc\n",
    "import conf\n",
    "import importlib\n",
    "import os\n",
    "importlib.reload(conf)"
   ]
  },
  {
   "cell_type": "code",
   "execution_count": 33,
   "metadata": {},
   "outputs": [],
   "source": [
    "# Calculate mean voxel activity given a specified voxel index\n",
    "def get_region_mean(region_idx, data, atlas_cifti_data):\n",
    "    region_vertices_mask = atlas_cifti_data == region_idx\n",
    "    region_timeseries = np.mean(data[:,region_vertices_mask[0]], axis = 1)\n",
    "    #print(f'shape of region_timeseries: {region_timeseries}')\n",
    "    return region_timeseries"
   ]
  },
  {
   "cell_type": "code",
   "execution_count": 34,
   "metadata": {},
   "outputs": [],
   "source": [
    "# Extract list of subjects with the same academic program affiliation as the current subject given as param\n",
    "def get_same_program_subjs(curr_subj, curr_subj_program, map_prog_to_subj):\n",
    "    return [subj for program, subjs in map_prog_to_subj.items() if program == curr_subj_program for subj in subjs if subj != curr_subj]"
   ]
  },
  {
   "cell_type": "code",
   "execution_count": 35,
   "metadata": {},
   "outputs": [],
   "source": [
    "# Extract list of subjects with a different academic program affiliation as the current subject given as param\n",
    "def get_diff_program_subjs(curr_program, map_prog_to_subj):\n",
    "    return [subj for program, subjs in map_prog_to_subj.items() if program != curr_program for subj in subjs]"
   ]
  },
  {
   "cell_type": "code",
   "execution_count": null,
   "metadata": {},
   "outputs": [],
   "source": [
    "# Calculate mean voxel activity of a subgroup of subjects given as param, based on a given time point and category_prefix\n",
    "def calc_mean_subjs_data(time_point, category_prefix, relevant_subjs):\n",
    "    if category_prefix == '':\n",
    "        time_series = conf.FMRI_TIMESERIES_ALL_CATEGORIES\n",
    "    else:\n",
    "        time_series = conf.FMRI_TIMESERIES_ONE_CATEGORY\n",
    "\n",
    "    mean_subjs_data = np.zeros((time_series, conf.N_VOXELS))\n",
    "\n",
    "    for subj in relevant_subjs:\n",
    "        \n",
    "        cifti_path = f'{conf.ROOT_PATH}/{time_point}/{subj}/MNINonLinear/Results/movies_concat_data/{category_prefix}movies_concat_data_AP_Atlas_MSMAll_hp2000_clean.dtseries.nii'\n",
    "        load_cifti = nib.load(cifti_path)\n",
    "        cifti_data = load_cifti.get_fdata()\n",
    "        mean_subjs_data += cifti_data\n",
    "        \n",
    "    mean_subjs_data = mean_subjs_data / len(relevant_subjs)\n",
    "    \n",
    "    return mean_subjs_data"
   ]
  },
  {
   "cell_type": "code",
   "execution_count": null,
   "metadata": {},
   "outputs": [
    {
     "name": "stdout",
     "output_type": "stream",
     "text": [
      "compute mean Engineering_Biology\n",
      "019\n"
     ]
    }
   ],
   "source": [
    "# Extract atlas cifti file and number of regions inside it\n",
    "ATLAS_CIFTI  = nib.load(conf.ATLAS_CIFTI_PATH).get_fdata()\n",
    "N_REGIONS = int(np.max(ATLAS_CIFTI))\n",
    "\n",
    "# Load behavioral data of fMRI participants\n",
    "behav_data_df = pd.read_excel('/Volumes/homes/Maya/Guests/Amit/behav_data.xlsx')\n",
    "behav_data_df = behav_data_df[~behav_data_df['subj'].astype(str).isin(conf.EXCLUDED)]\n",
    "behav_data_df['subj_formatted'] = behav_data_df['subj'].astype(str).str.zfill(3)\n",
    "\n",
    "# Create a dict for mapping program with it's corresponded affiliated subjects\n",
    "map_prog_to_subj = behav_data_df.groupby('program')['subj_formatted'].apply(list).to_dict()\n",
    "\n",
    "for time_point in conf.TIME_POINTS:\n",
    "\n",
    "    for category_prefix in conf.SCANS_CATEGORIES_PREFIX:\n",
    "        \n",
    "        same_prog_corr_list = []\n",
    "        diff_prog_corr_list = []\n",
    "        \n",
    "        map_prog_to_mean_diff = {}\n",
    "        for prog in map_prog_to_subj.keys():\n",
    "            diff_prog_subjs = get_diff_program_subjs(prog, map_prog_to_subj)\n",
    "            print(f\"compute mean {prog}\")\n",
    "            map_prog_to_mean_diff[prog] = calc_mean_subjs_data(time_point, category_prefix, diff_prog_subjs)\n",
    "            \n",
    "        for idx, row in behav_data_df.iterrows():\n",
    "            subj = row['subj_formatted']\n",
    "            \n",
    "            print(f\"Analyzing {time_point} {category_prefix} scan of subject {subj}\")\n",
    "            \n",
    "            same_prog_subj_row = {'subject' : subj}\n",
    "            diff_prog_subj_row = {'subject' : subj}\n",
    "\n",
    "            cifti_path = f'{conf.ROOT_PATH}/{time_point}/{subj}/MNINonLinear/Results/movies_concat_data/{category_prefix}movies_concat_data_AP_Atlas_MSMAll_hp2000_clean.dtseries.nii'\n",
    "            load_cifti = nib.load(cifti_path)\n",
    "            subj_i_data = load_cifti.get_fdata()\n",
    "\n",
    "            # Mean of subjects' academic program\n",
    "            same_prog_subjs = get_same_program_subjs(subj, row['program'], map_prog_to_subj)\n",
    "            same_program_mean = calc_mean_subjs_data(time_point, category_prefix, same_prog_subjs)\n",
    "            not_subject_program_mean = map_prog_to_mean_diff[row['program']]\n",
    "\n",
    "            for region in range(1, N_REGIONS+1):\n",
    "                timeseries_subj_i = get_region_mean(region, subj_i_data, ATLAS_CIFTI)\n",
    "                timeseries_same_program = get_region_mean(region, same_program_mean, ATLAS_CIFTI)\n",
    "                timeseries_diff_program = get_region_mean(region, not_subject_program_mean, ATLAS_CIFTI)\n",
    "\n",
    "                # correlation of subject's neural activity in brain region with same program's mean activity\n",
    "                region_same_program_corr, _ = sc.pearsonr(timeseries_subj_i, timeseries_same_program)\n",
    "                same_prog_subj_row[str(region)] = np.arctanh(region_same_program_corr) #Fisher's z transformation\n",
    "\n",
    "                # correlation of subject's neural activity in brain region with different program's mean activity\n",
    "                region_diff_program_corr, _ = sc.pearsonr(timeseries_subj_i, timeseries_diff_program)\n",
    "                diff_prog_subj_row[str(region)] = np.arctanh(region_diff_program_corr) #Fisher's z transformation\n",
    "            \n",
    "            same_prog_corr_list.append(same_prog_subj_row)\n",
    "            diff_prog_corr_list.append(diff_prog_subj_row)\n",
    "\n",
    "        pd.DataFrame(same_prog_corr_list).to_csv(os.path.join(conf.OUTPUT_PATH_DIR_PREFIX, f'{time_point}_{category_prefix}same_prog_corr.csv'))\n",
    "        pd.DataFrame(diff_prog_corr_list).to_csv(os.path.join(conf.OUTPUT_PATH_DIR_PREFIX, f'{time_point}_{category_prefix}diff_prog_corr.csv'))\n",
    "                "
   ]
  },
  {
   "cell_type": "code",
   "execution_count": null,
   "metadata": {},
   "outputs": [
    {
     "name": "stdout",
     "output_type": "stream",
     "text": [
      "Requirement already satisfied: xlrd in /Users/mortyseinfeld/opt/miniconda3/envs/Yael/lib/python3.8/site-packages (2.0.1)\n",
      "\n",
      "\u001b[1m[\u001b[0m\u001b[34;49mnotice\u001b[0m\u001b[1;39;49m]\u001b[0m\u001b[39;49m A new release of pip is available: \u001b[0m\u001b[31;49m23.3.2\u001b[0m\u001b[39;49m -> \u001b[0m\u001b[32;49m25.0.1\u001b[0m\n",
      "\u001b[1m[\u001b[0m\u001b[34;49mnotice\u001b[0m\u001b[1;39;49m]\u001b[0m\u001b[39;49m To update, run: \u001b[0m\u001b[32;49mpip install --upgrade pip\u001b[0m\n"
     ]
    }
   ],
   "source": [
    "!pip install xlrd"
   ]
  }
 ],
 "metadata": {
  "kernelspec": {
   "display_name": ".conda",
   "language": "python",
   "name": "python3"
  },
  "language_info": {
   "codemirror_mode": {
    "name": "ipython",
    "version": 3
   },
   "file_extension": ".py",
   "mimetype": "text/x-python",
   "name": "python",
   "nbconvert_exporter": "python",
   "pygments_lexer": "ipython3",
   "version": "3.11.12"
  },
  "orig_nbformat": 4
 },
 "nbformat": 4,
 "nbformat_minor": 2
}
